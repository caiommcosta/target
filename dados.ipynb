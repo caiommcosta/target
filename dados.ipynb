{
 "cells": [
  {
   "cell_type": "code",
   "execution_count": 1,
   "metadata": {},
   "outputs": [],
   "source": [
    "import pandas as pd\n",
    "import xmltodict"
   ]
  },
  {
   "cell_type": "code",
   "execution_count": 2,
   "metadata": {},
   "outputs": [],
   "source": [
    "xml_path = \"F:/Workspace/Python/Estagio/dados.xml\"\n",
    "json_path = \"F:/Workspace/Python/Estagio/dados.json\"\n",
    "excel_path = \"F:/Workspace/Python/Estagio/data.xlsx\""
   ]
  },
  {
   "cell_type": "code",
   "execution_count": 3,
   "metadata": {},
   "outputs": [],
   "source": [
    "df = pd.read_json(json_path)\n",
    "\n",
    "df['dia'] = df['dia'].fillna(0).astype(int)\n",
    "df['valor'] = df['valor'].fillna(0).astype(float).round(4)\n",
    "df.columns = ['dia', 'json valor']"
   ]
  },
  {
   "cell_type": "code",
   "execution_count": 4,
   "metadata": {},
   "outputs": [],
   "source": [
    "# adicionada a tag <rows> manualmente em dados.xmlp para funcionar\n",
    "\n",
    "with open(xml_path, \"rb\") as data:\n",
    "  xml = xmltodict.parse(data)\n",
    "\n",
    "rows = xml['rows']['row']\n",
    "valores = [row['valor'] for row in rows]\n",
    "df['xml valor'] = valores\n",
    "df['xml valor'] = df['xml valor'].fillna(0).astype(float).round(4)"
   ]
  },
  {
   "cell_type": "code",
   "execution_count": 5,
   "metadata": {},
   "outputs": [],
   "source": [
    "# adicionar os dias da semana e cada semana\n",
    "# o mês dos dados começa na quarta\n",
    "\n",
    "dias_semana = [\"quarta-feira\",\n",
    "               \"quinta-feira\",\n",
    "               \"sexta-feira\",\n",
    "               \"sábado\",\n",
    "               \"domingo\",\n",
    "               \"segunda-feira\",\n",
    "               \"terça-feira\"]\n",
    "\n",
    "dias_repetidos = (dias_semana * (30 // len(dias_semana)+1))[:30]\n",
    "\n",
    "df['dia da semana'] = dias_repetidos\n",
    "df['semana'] = (df['dia'] - 1) // 7 + 1"
   ]
  },
  {
   "cell_type": "code",
   "execution_count": 6,
   "metadata": {},
   "outputs": [],
   "source": [
    "with pd.ExcelWriter(excel_path, engine='openpyxl', mode='r+', if_sheet_exists='overlay') as writer:\n",
    "  df.to_excel(writer, sheet_name='xml', index=False)"
   ]
  },
  {
   "cell_type": "code",
   "execution_count": 7,
   "metadata": {},
   "outputs": [],
   "source": [
    "zeros_json = 0\n",
    "val_json = 0\n",
    "\n",
    "zeros_xml = 0\n",
    "val_xml = 0\n",
    "\n",
    "for v in df['json valor']:\n",
    "  if v == 0:\n",
    "    zeros_json += 1\n",
    "  else:\n",
    "    val_json += 1\n",
    "\n",
    "\n",
    "for v in df['xml valor']:\n",
    "  if v == 0:\n",
    "    zeros_xml += 1\n",
    "  else:\n",
    "    val_xml += 1"
   ]
  },
  {
   "cell_type": "code",
   "execution_count": 8,
   "metadata": {},
   "outputs": [],
   "source": [
    "# insights\n",
    "\n",
    "insights = {\n",
    "  \"media\": [df['json valor'].mean().round(4), df['xml valor'].mean().round(4)],\n",
    "  \"max\": [df['json valor'].max().round(4), df['xml valor'].max().round(4)],\n",
    "  \"dias_trabalhados\": [val_json, val_xml],\n",
    "  \"dias_folga\": [zeros_json, zeros_xml],\n",
    "  \"total\": [df['json valor'].sum().round(4), df['xml valor'].sum().round(4)],\n",
    "  \"menor_faturamento\": [df[df['json valor'] != 0]['json valor'].min().round(4),\n",
    "                       df[df['xml valor'] != 0]['xml valor'].min().round(4)],\n",
    "  \"maior_faturamento\": [df['json valor'].max().round(4),\n",
    "                        df['xml valor'].max().round(4)],\n",
    "}\n",
    "\n",
    "\n",
    "# saldos\n",
    "df['saldo_diario'] =  df['xml valor'] - df['json valor']\n",
    "\n",
    "soma_semanal_json = df.groupby('semana')['json valor'].sum().reset_index()\n",
    "soma_semanal_xml = df.groupby('semana')['xml valor'].sum().reset_index()\n",
    "\n",
    "\n",
    "df_saldo_semanal = pd.merge(soma_semanal_json, soma_semanal_xml, on='semana')\n",
    "df_saldo_semanal['saldo_semanal'] = (soma_semanal_xml['xml valor'] - soma_semanal_json['json valor'])\n",
    "\n",
    "saldo_mensal = soma_semanal_xml['xml valor'].sum() - soma_semanal_json['json valor'].sum()"
   ]
  },
  {
   "cell_type": "code",
   "execution_count": 9,
   "metadata": {},
   "outputs": [
    {
     "name": "stdout",
     "output_type": "stream",
     "text": [
      "media: json: 14605.7591 - xml: 16743.2136\n",
      "max: json: 48924.2448 - xml: 48275.2994\n",
      "dias_trabalhados: json: 21 - xml: 21\n",
      "dias_folga: json: 9 - xml: 9\n",
      "total: json: 438172.7735 - xml: 502296.4079\n",
      "menor_faturamento: json: 373.7838 - xml: 3071.3283\n",
      "maior_faturamento: json: 48924.2448 - xml: 48275.2994\n",
      "----------\n",
      "   semana   json valor    xml valor  saldo_semanal\n",
      "0       1   99594.1108  124411.3838     24817.2730\n",
      "1       2  104553.1381  112705.0043      8151.8662\n",
      "2       3  149072.6118  128254.9544    -20817.6574\n",
      "3       4   63317.8078   86751.2820     23433.4742\n",
      "4       5   21635.1050   50173.7834     28538.6784\n",
      "----------\n",
      "Saldo mensal: 64123.63440000004\n"
     ]
    }
   ],
   "source": [
    "# saídas\n",
    "\n",
    "for key, value in insights.items():\n",
    "  print(f\"{key}: json: {value[0]} - xml: {value[1]}\")\n",
    "\n",
    "print(\"----------\")\n",
    "print(df_saldo_semanal)\n",
    "print(\"----------\")\n",
    "print(f\"Saldo mensal: {saldo_mensal}\")"
   ]
  }
 ],
 "metadata": {
  "kernelspec": {
   "display_name": "Python 3",
   "language": "python",
   "name": "python3"
  },
  "language_info": {
   "codemirror_mode": {
    "name": "ipython",
    "version": 3
   },
   "file_extension": ".py",
   "mimetype": "text/x-python",
   "name": "python",
   "nbconvert_exporter": "python",
   "pygments_lexer": "ipython3",
   "version": "3.12.0"
  }
 },
 "nbformat": 4,
 "nbformat_minor": 2
}
