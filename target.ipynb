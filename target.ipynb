{
 "cells": [
  {
   "cell_type": "code",
   "execution_count": 39,
   "metadata": {},
   "outputs": [
    {
     "name": "stdout",
     "output_type": "stream",
     "text": [
      "78\n"
     ]
    }
   ],
   "source": [
    "#QUESTÃO 1 SOMA E INDICE\n",
    "\n",
    "indice = 13\n",
    "soma = 0\n",
    "k = 0\n",
    "\n",
    "for k in range(indice):\n",
    "  soma += k\n",
    "\n",
    "print(soma)"
   ]
  },
  {
   "cell_type": "code",
   "execution_count": 40,
   "metadata": {},
   "outputs": [
    {
     "name": "stdout",
     "output_type": "stream",
     "text": [
      "o número 5 pertence a sequencia de Fibonacci\n"
     ]
    }
   ],
   "source": [
    "#QUESTÃO 2 FIBONNACI\n",
    "\n",
    "num = int(input(\"DIgite um número:\"))\n",
    "\n",
    "fibonacci = [0,1]\n",
    "\n",
    "for n in range(num):\n",
    "  s = fibonacci[-1] + fibonacci[-2]\n",
    "  fibonacci.append(s)\n",
    "\n",
    "if num in fibonacci:\n",
    "  print(f\"o número {num} pertence a sequencia de Fibonacci\")\n",
    "else:\n",
    "  print(f\"o número {num} NÃO pertence a sequencia de Fibonacci\")\n"
   ]
  },
  {
   "cell_type": "code",
   "execution_count": 8,
   "metadata": {},
   "outputs": [
    {
     "name": "stdout",
     "output_type": "stream",
     "text": [
      "menor_faturamento: json: 373.7838 - xml: 3071.3283\n",
      "maior_faturamento: json: 48924.2448 - xml: 48275.2994\n"
     ]
    }
   ],
   "source": [
    "#QUESTÃO 3\n",
    "\n",
    "# foi adicionada a tag <rows> manualmente em dados.xml para funcionar da forma como eu fiz\n",
    "\n",
    "import pandas as pd\n",
    "import xmltodict\n",
    "\n",
    "xml_path = \"F:/Workspace/Python/Estagio/dados.xml\"\n",
    "json_path = \"F:/Workspace/Python/Estagio/dados.json\"\n",
    "\n",
    "df = pd.read_json(json_path)\n",
    "\n",
    "df['dia'] = df['dia'].fillna(0).astype(int)\n",
    "df['valor'] = df['valor'].fillna(0).astype(float).round(4)\n",
    "df.columns = ['dia', 'json valor']\n",
    "\n",
    "\n",
    "with open(xml_path, \"rb\") as data:\n",
    "  xml = xmltodict.parse(data)\n",
    "\n",
    "rows = xml['rows']['row']\n",
    "valores = [row['valor'] for row in rows]\n",
    "df['xml valor'] = valores\n",
    "df['xml valor'] = df['xml valor'].fillna(0).astype(float).round(4)\n",
    "\n",
    "\n",
    "insights = {\n",
    "  'menor_faturamento': [\n",
    "                        df[df['json valor'] != 0]['json valor'].min().round(4),\n",
    "                        df[df['xml valor'] != 0]['xml valor'].min().round(4)\n",
    "                        ],\n",
    "  'maior_faturamento': [\n",
    "                        df['json valor'].max().round(4),\n",
    "                        df['xml valor'].max().round(4)\n",
    "                        ],\n",
    "}\n",
    "\n",
    "for key, value in insights.items():\n",
    "  print(f\"{key}: json: {value[0]} - xml: {value[1]}\")"
   ]
  },
  {
   "cell_type": "code",
   "execution_count": 5,
   "metadata": {},
   "outputs": [
    {
     "name": "stdout",
     "output_type": "stream",
     "text": [
      "{'SP': 37.53, 'RJ': 20.29, 'MG': 16.17, 'ES': 15.03, 'Outros': 10.98}\n"
     ]
    }
   ],
   "source": [
    "#QUESTÃO 4\n",
    "\n",
    "faturamento_estado = {\n",
    "'SP': 67836.43,\n",
    "'RJ': 36678.66,\n",
    "'MG': 29229.88,\n",
    "'ES': 27165.48,\n",
    "'Outros': 19849.53\n",
    "}\n",
    "\n",
    "percent_estado = {}\n",
    "\n",
    "total = sum(faturamento_estado.values())\n",
    "\n",
    "for k, v in faturamento_estado.items():\n",
    "  percent_estado[k] = round((v/total * 100), 2)\n",
    "\n",
    "print(percent_estado)"
   ]
  },
  {
   "cell_type": "code",
   "execution_count": 6,
   "metadata": {},
   "outputs": [
    {
     "name": "stdout",
     "output_type": "stream",
     "text": [
      "nohtyP\n"
     ]
    }
   ],
   "source": [
    "# QUESTÃO 5\n",
    "\n",
    "string = str(input())\n",
    "\n",
    "string_invertida = string[::-1] # aplicando slicing\n",
    "\n",
    "print(string_invertida)"
   ]
  }
 ],
 "metadata": {
  "kernelspec": {
   "display_name": "Python 3",
   "language": "python",
   "name": "python3"
  },
  "language_info": {
   "codemirror_mode": {
    "name": "ipython",
    "version": 3
   },
   "file_extension": ".py",
   "mimetype": "text/x-python",
   "name": "python",
   "nbconvert_exporter": "python",
   "pygments_lexer": "ipython3",
   "version": "3.12.0"
  }
 },
 "nbformat": 4,
 "nbformat_minor": 2
}
